{
  "nbformat": 4,
  "nbformat_minor": 0,
  "metadata": {
    "colab": {
      "provenance": []
    },
    "kernelspec": {
      "name": "python3",
      "display_name": "Python 3"
    },
    "language_info": {
      "name": "python"
    }
  },
  "cells": [
    {
      "cell_type": "markdown",
      "source": [],
      "metadata": {
        "id": "plGu3lt2lgx0"
      }
    },
    {
      "cell_type": "markdown",
      "source": [
        "**Estoy aprendiendo** phyton"
      ],
      "metadata": {
        "id": "49Y5J5uFlyPy"
      }
    },
    {
      "cell_type": "code",
      "source": [
        "#Esto es una broma\n",
        "print (\"Hola Mundo\")"
      ],
      "metadata": {
        "colab": {
          "base_uri": "https://localhost:8080/"
        },
        "id": "7k_knyjil1FX",
        "outputId": "af8e5ad0-1ac5-4b6e-ae40-a51203364af4"
      },
      "execution_count": null,
      "outputs": [
        {
          "output_type": "stream",
          "name": "stdout",
          "text": [
            "Hola Mundo\n"
          ]
        }
      ]
    },
    {
      "cell_type": "code",
      "source": [
        "#Este soy yo"
      ],
      "metadata": {
        "id": "MaHkxXp9ml9O"
      },
      "execution_count": null,
      "outputs": []
    },
    {
      "cell_type": "code",
      "source": [
        "print(\"Hola soy Arnulfo segura, tengo 38 años, me gusta jugar futbol y estar con mi familia\")"
      ],
      "metadata": {
        "colab": {
          "base_uri": "https://localhost:8080/"
        },
        "id": "m2L-Nhe1m_oG",
        "outputId": "1bfb8a86-cd8a-42a8-8159-942068ba8ea3"
      },
      "execution_count": null,
      "outputs": [
        {
          "output_type": "stream",
          "name": "stdout",
          "text": [
            "Hola soy Arnulfo segura, tengo 38 años, me gusta jugar futbol y estar con mi familia\n"
          ]
        }
      ]
    },
    {
      "cell_type": "code",
      "source": [
        "\"cinco noches\""
      ],
      "metadata": {
        "colab": {
          "base_uri": "https://localhost:8080/",
          "height": 35
        },
        "id": "VyZGPcIDnLTn",
        "outputId": "7ac6ca79-0b0b-4046-f2ec-a57484c1120a"
      },
      "execution_count": null,
      "outputs": [
        {
          "output_type": "execute_result",
          "data": {
            "text/plain": [
              "'cinco noches'"
            ],
            "application/vnd.google.colaboratory.intrinsic+json": {
              "type": "string"
            }
          },
          "metadata": {},
          "execution_count": 126
        }
      ]
    },
    {
      "cell_type": "code",
      "source": [],
      "metadata": {
        "id": "p0CuHh1Unw0i"
      },
      "execution_count": null,
      "outputs": []
    },
    {
      "cell_type": "markdown",
      "source": [
        "**Tipos de Datos**"
      ],
      "metadata": {
        "id": "9OpQ_F3Qn6DW"
      }
    },
    {
      "cell_type": "code",
      "source": [
        "#Tipo de dato entero, en ingles es integer y la abreviatura para phyton es INT\n",
        "type(38)"
      ],
      "metadata": {
        "colab": {
          "base_uri": "https://localhost:8080/"
        },
        "id": "aN6ZFOf7oC10",
        "outputId": "44b9fcc3-9faf-4e1d-a44b-a1910a58adc4"
      },
      "execution_count": null,
      "outputs": [
        {
          "output_type": "execute_result",
          "data": {
            "text/plain": [
              "int"
            ]
          },
          "metadata": {},
          "execution_count": 127
        }
      ]
    },
    {
      "cell_type": "code",
      "source": [
        "#Tipo de dato flotante, en ingles es float, que lo conocemos como decimal\n",
        "type(9.8)"
      ],
      "metadata": {
        "colab": {
          "base_uri": "https://localhost:8080/"
        },
        "id": "z2M0cjeIou_R",
        "outputId": "94773b3e-6a35-4b90-b3fe-99e1c089b72a"
      },
      "execution_count": null,
      "outputs": [
        {
          "output_type": "execute_result",
          "data": {
            "text/plain": [
              "float"
            ]
          },
          "metadata": {},
          "execution_count": 128
        }
      ]
    },
    {
      "cell_type": "code",
      "source": [
        "#Tipo de dato Boleano, son tipos de datos que solo pueden tener dos valores, true, false\n",
        "type(True)"
      ],
      "metadata": {
        "colab": {
          "base_uri": "https://localhost:8080/"
        },
        "id": "VKM-Hlm9pJHK",
        "outputId": "6ca1bbcd-b6c0-4872-e6ba-a464733532ca"
      },
      "execution_count": null,
      "outputs": [
        {
          "output_type": "execute_result",
          "data": {
            "text/plain": [
              "bool"
            ]
          },
          "metadata": {},
          "execution_count": 129
        }
      ]
    },
    {
      "cell_type": "code",
      "source": [
        "#Tipos de datos cadena, en ingles strings, siempre deben tener comillas, su abreviatura es str.\n",
        "type(\"En un lugar de la mancha, de cuyo nombre no puedo acordarme\")"
      ],
      "metadata": {
        "colab": {
          "base_uri": "https://localhost:8080/"
        },
        "id": "wDE0iq9lp3SU",
        "outputId": "bce0b63e-0b84-43fe-d85d-e377a321d49b"
      },
      "execution_count": null,
      "outputs": [
        {
          "output_type": "execute_result",
          "data": {
            "text/plain": [
              "str"
            ]
          },
          "metadata": {},
          "execution_count": 130
        }
      ]
    },
    {
      "cell_type": "code",
      "source": [],
      "metadata": {
        "id": "9tDSsWCHqQQQ"
      },
      "execution_count": null,
      "outputs": []
    },
    {
      "cell_type": "markdown",
      "source": [
        "Meodos de las cadenas, las cadenas tienen funciones pequeñas que me ayudan a formatearlas"
      ],
      "metadata": {
        "id": "jcfxGLZ4qbc6"
      }
    },
    {
      "cell_type": "code",
      "source": [
        "print(\"Hola estoy aprendiendo python\".upper())#Este metodo mes sirve para poner mayusculas\n",
        "print(\"Con pythOn puedo pEdir un aumEnto\".lower())#Este metodo me sirve para poner minusculas\n",
        "print(\"El principito\".title())#Este metodo sirve para poner la primera letra de cada palabla en mayuscula"
      ],
      "metadata": {
        "colab": {
          "base_uri": "https://localhost:8080/"
        },
        "id": "VZBAPItLqhuM",
        "outputId": "d8c4ed92-3af1-44dd-b7fb-6c715bd922df"
      },
      "execution_count": null,
      "outputs": [
        {
          "output_type": "stream",
          "name": "stdout",
          "text": [
            "HOLA ESTOY APRENDIENDO PYTHON\n",
            "con python puedo pedir un aumento\n",
            "El Principito\n"
          ]
        }
      ]
    },
    {
      "cell_type": "code",
      "source": [
        "#Para contar letras de una cadena puedo usar el metodo count\n",
        "print(\"¿Qué es y en qué consiste la Ley borrón y cuenta nueva?\".count(\"e\"))"
      ],
      "metadata": {
        "colab": {
          "base_uri": "https://localhost:8080/"
        },
        "id": "f2lRHX5jq0Sj",
        "outputId": "c38c17a7-a263-4630-97d5-434a80ac2c83"
      },
      "execution_count": null,
      "outputs": [
        {
          "output_type": "stream",
          "name": "stdout",
          "text": [
            "6\n"
          ]
        }
      ]
    },
    {
      "cell_type": "code",
      "source": [
        "print(\"\"\"Mi edad es 38 años\n",
        "mi genero es masculino\"\"\")"
      ],
      "metadata": {
        "colab": {
          "base_uri": "https://localhost:8080/"
        },
        "id": "x9P-pCdMsAXa",
        "outputId": "5c4b73d9-7a56-4b0a-bc2a-da97d1b16492"
      },
      "execution_count": null,
      "outputs": [
        {
          "output_type": "stream",
          "name": "stdout",
          "text": [
            "Mi edad es 38 años\n",
            "mi genero es masculino\n"
          ]
        }
      ]
    },
    {
      "cell_type": "code",
      "source": [
        "#Como Reemplazar un valor dentro de una cadena utilizando replace\n",
        "print(\"Hola soy Arnulfo Segura\".replace(\"o\",\"O\"))"
      ],
      "metadata": {
        "colab": {
          "base_uri": "https://localhost:8080/"
        },
        "id": "H852Z6SAs2Yr",
        "outputId": "48ed20e0-8fe6-425c-8f2a-f0804e60fafd"
      },
      "execution_count": null,
      "outputs": [
        {
          "output_type": "stream",
          "name": "stdout",
          "text": [
            "HOla sOy ArnulfO Segura\n"
          ]
        }
      ]
    },
    {
      "cell_type": "code",
      "source": [
        "print(\"Hola soy arnulfo segura\".replace(\"a\",\"A\"))"
      ],
      "metadata": {
        "colab": {
          "base_uri": "https://localhost:8080/"
        },
        "id": "VXrAJbf2tVzK",
        "outputId": "35388d92-0feb-4656-e144-49e9b1d21c58"
      },
      "execution_count": null,
      "outputs": [
        {
          "output_type": "stream",
          "name": "stdout",
          "text": [
            "HolA soy Arnulfo segurA\n"
          ]
        }
      ]
    },
    {
      "cell_type": "code",
      "source": [],
      "metadata": {
        "id": "CaKxcB8Vt6Ko"
      },
      "execution_count": null,
      "outputs": []
    },
    {
      "cell_type": "markdown",
      "source": [
        "**Variables:**\n",
        "Son espacios de memoria que nos sirven para guardar informacion particular, deben tener un nombre que nos ayude a identificar su contenido."
      ],
      "metadata": {
        "id": "hkfFOHJ6uFFJ"
      }
    },
    {
      "cell_type": "code",
      "source": [
        "#Para declarar una variable se usa nombre de la variable, el signo igual, el valor, Ejem:\n",
        "#edad=38\n",
        "nombre=\"Arnulfo\"\n",
        "apellidos=\"Segura Romero\"\n",
        "edad=38\n",
        "estado_civil=\"casado\""
      ],
      "metadata": {
        "id": "vJ9jakd9uTdW"
      },
      "execution_count": null,
      "outputs": []
    },
    {
      "cell_type": "code",
      "source": [
        "print(nombre)"
      ],
      "metadata": {
        "colab": {
          "base_uri": "https://localhost:8080/"
        },
        "id": "1xCYfH6ouzuj",
        "outputId": "6c0988ca-271a-48fc-e7ca-673d185e146f"
      },
      "execution_count": null,
      "outputs": [
        {
          "output_type": "stream",
          "name": "stdout",
          "text": [
            "Arnulfo\n"
          ]
        }
      ]
    },
    {
      "cell_type": "code",
      "source": [
        "print(apellidos)"
      ],
      "metadata": {
        "colab": {
          "base_uri": "https://localhost:8080/"
        },
        "id": "Mc5v8qpHu_7q",
        "outputId": "c8a9e821-e3e9-4336-e0c3-1510aa3bac76"
      },
      "execution_count": null,
      "outputs": [
        {
          "output_type": "stream",
          "name": "stdout",
          "text": [
            "Segura Romero\n"
          ]
        }
      ]
    },
    {
      "cell_type": "code",
      "source": [
        "print(edad)"
      ],
      "metadata": {
        "colab": {
          "base_uri": "https://localhost:8080/"
        },
        "id": "Ir9eMjQHvKnh",
        "outputId": "1ff778ef-a28b-47ff-cca1-2d2044bf2c06"
      },
      "execution_count": null,
      "outputs": [
        {
          "output_type": "stream",
          "name": "stdout",
          "text": [
            "38\n"
          ]
        }
      ]
    },
    {
      "cell_type": "code",
      "source": [
        "#nombre de mis hijos\n",
        "hija=\"celeste\"\n",
        "hijo=\"sebastian\""
      ],
      "metadata": {
        "id": "ps0wlCCuvbzX"
      },
      "execution_count": null,
      "outputs": []
    },
    {
      "cell_type": "code",
      "source": [
        "print(hija)"
      ],
      "metadata": {
        "colab": {
          "base_uri": "https://localhost:8080/"
        },
        "id": "H0HZglxwvxoa",
        "outputId": "fd6392db-32a2-4b88-fb95-af9265989c11"
      },
      "execution_count": null,
      "outputs": [
        {
          "output_type": "stream",
          "name": "stdout",
          "text": [
            "celeste\n"
          ]
        }
      ]
    },
    {
      "cell_type": "code",
      "source": [
        "hijo"
      ],
      "metadata": {
        "colab": {
          "base_uri": "https://localhost:8080/",
          "height": 35
        },
        "id": "zFvPtRcIv1JU",
        "outputId": "27ad311c-c9bf-492b-bca0-63492c02659c"
      },
      "execution_count": null,
      "outputs": [
        {
          "output_type": "execute_result",
          "data": {
            "text/plain": [
              "'sebastian'"
            ],
            "application/vnd.google.colaboratory.intrinsic+json": {
              "type": "string"
            }
          },
          "metadata": {},
          "execution_count": 142
        }
      ]
    },
    {
      "cell_type": "code",
      "source": [
        "#Esta es una variable con un mensaje\n",
        "mensaje_1=\"Ahora que se python Alexandra no me va a ganar\""
      ],
      "metadata": {
        "id": "oV-dKzavwK2t"
      },
      "execution_count": null,
      "outputs": []
    },
    {
      "cell_type": "code",
      "source": [
        "mensaje_1"
      ],
      "metadata": {
        "colab": {
          "base_uri": "https://localhost:8080/",
          "height": 35
        },
        "id": "x_0T07Gq1g6A",
        "outputId": "1031a788-c703-4274-a5ca-0344b7bd9e11"
      },
      "execution_count": null,
      "outputs": [
        {
          "output_type": "execute_result",
          "data": {
            "text/plain": [
              "'Ahora que se python Alexandra no me va a ganar'"
            ],
            "application/vnd.google.colaboratory.intrinsic+json": {
              "type": "string"
            }
          },
          "metadata": {},
          "execution_count": 144
        }
      ]
    },
    {
      "cell_type": "code",
      "source": [
        "#Acá no solo guarda la variable sino que la uestra de una vez\n",
        "mensaje_2=\"Porque yo voy con toda\"\n",
        "mensaje_2"
      ],
      "metadata": {
        "colab": {
          "base_uri": "https://localhost:8080/",
          "height": 35
        },
        "id": "KZ9h9osb1jBD",
        "outputId": "2b63c4ef-7e1e-4dad-f3ca-4ef4c5c07be4"
      },
      "execution_count": null,
      "outputs": [
        {
          "output_type": "execute_result",
          "data": {
            "text/plain": [
              "'Porque yo voy con toda'"
            ],
            "application/vnd.google.colaboratory.intrinsic+json": {
              "type": "string"
            }
          },
          "metadata": {},
          "execution_count": 145
        }
      ]
    },
    {
      "cell_type": "code",
      "source": [
        "#Asi se concatena en python\n",
        "mensaje_1 + mensaje_2"
      ],
      "metadata": {
        "colab": {
          "base_uri": "https://localhost:8080/",
          "height": 35
        },
        "id": "1IMullKr148y",
        "outputId": "3209202a-acc1-487f-cd60-faec0775beab"
      },
      "execution_count": null,
      "outputs": [
        {
          "output_type": "execute_result",
          "data": {
            "text/plain": [
              "'Ahora que se python Alexandra no me va a ganarPorque yo voy con toda'"
            ],
            "application/vnd.google.colaboratory.intrinsic+json": {
              "type": "string"
            }
          },
          "metadata": {},
          "execution_count": 146
        }
      ]
    },
    {
      "cell_type": "code",
      "source": [
        "#Asi declaro un espcio vacio\n",
        "espacio=\" \""
      ],
      "metadata": {
        "id": "7hE1wOE32NCF"
      },
      "execution_count": null,
      "outputs": []
    },
    {
      "cell_type": "code",
      "source": [
        "#Asi concateno las variables\n",
        "mensaje_1+espacio+mensaje_2"
      ],
      "metadata": {
        "colab": {
          "base_uri": "https://localhost:8080/",
          "height": 35
        },
        "id": "06UtVwAs2o0N",
        "outputId": "c2571880-9201-468f-cfa5-d99ea0f63200"
      },
      "execution_count": null,
      "outputs": [
        {
          "output_type": "execute_result",
          "data": {
            "text/plain": [
              "'Ahora que se python Alexandra no me va a ganar Porque yo voy con toda'"
            ],
            "application/vnd.google.colaboratory.intrinsic+json": {
              "type": "string"
            }
          },
          "metadata": {},
          "execution_count": 148
        }
      ]
    },
    {
      "cell_type": "code",
      "source": [
        "#Asi guardo la concatenacion en una variable\n",
        "mensaje_completo=mensaje_1+espacio+mensaje_2\n",
        "mensaje_completo"
      ],
      "metadata": {
        "colab": {
          "base_uri": "https://localhost:8080/",
          "height": 35
        },
        "id": "xB8lAKkd2tEy",
        "outputId": "57e3060e-34d8-4a64-db2f-4ad5a021b6a0"
      },
      "execution_count": null,
      "outputs": [
        {
          "output_type": "execute_result",
          "data": {
            "text/plain": [
              "'Ahora que se python Alexandra no me va a ganar Porque yo voy con toda'"
            ],
            "application/vnd.google.colaboratory.intrinsic+json": {
              "type": "string"
            }
          },
          "metadata": {},
          "execution_count": 149
        }
      ]
    },
    {
      "cell_type": "code",
      "source": [],
      "metadata": {
        "id": "W4C4XMe33EQS"
      },
      "execution_count": null,
      "outputs": []
    },
    {
      "cell_type": "markdown",
      "source": [
        "Las listas con tipos de datos mutables y ordenasdos , son las mas usasdas al trabajar con datos, para declarar una lista uso los corchetes cuadrados []"
      ],
      "metadata": {
        "id": "oTphVTjR4AZX"
      }
    },
    {
      "cell_type": "code",
      "source": [
        "#Las lista se definen como el siguiente ejemplo\n",
        "#datos=[\"Arnulfo\",\"Segura\",\"Romero\",38,\"casado\",1.68]\n",
        "paises=[\"Colombia\", \"Ecuadro\",\"Mexico\", \"China\",\"Francia\",\"Paraguay\"]\n",
        "paises"
      ],
      "metadata": {
        "colab": {
          "base_uri": "https://localhost:8080/"
        },
        "id": "QUjzBcBD4blo",
        "outputId": "c1ec8d0b-55e1-478a-bd5d-d2df4a6743d2"
      },
      "execution_count": null,
      "outputs": [
        {
          "output_type": "execute_result",
          "data": {
            "text/plain": [
              "['Colombia', 'Ecuadro', 'Mexico', 'China', 'Francia', 'Paraguay']"
            ]
          },
          "metadata": {},
          "execution_count": 150
        }
      ]
    },
    {
      "cell_type": "code",
      "source": [
        "#Las listas trienen indices automaticos, que se generan cuando creo la lista, sin embargo estos nos visibles hasta quen los llamo\n",
        "paises[0]"
      ],
      "metadata": {
        "colab": {
          "base_uri": "https://localhost:8080/",
          "height": 35
        },
        "id": "ydcCA8ja4-Qz",
        "outputId": "abd44a80-e247-4dd7-c539-8741dd348446"
      },
      "execution_count": null,
      "outputs": [
        {
          "output_type": "execute_result",
          "data": {
            "text/plain": [
              "'Colombia'"
            ],
            "application/vnd.google.colaboratory.intrinsic+json": {
              "type": "string"
            }
          },
          "metadata": {},
          "execution_count": 151
        }
      ]
    },
    {
      "cell_type": "code",
      "source": [
        "paises[-6]"
      ],
      "metadata": {
        "colab": {
          "base_uri": "https://localhost:8080/",
          "height": 35
        },
        "id": "VW9BctGa5t2S",
        "outputId": "ca447448-c695-4fe0-996c-d93d92530ec8"
      },
      "execution_count": null,
      "outputs": [
        {
          "output_type": "execute_result",
          "data": {
            "text/plain": [
              "'Colombia'"
            ],
            "application/vnd.google.colaboratory.intrinsic+json": {
              "type": "string"
            }
          },
          "metadata": {},
          "execution_count": 152
        }
      ]
    },
    {
      "cell_type": "code",
      "source": [
        "paises[3]"
      ],
      "metadata": {
        "colab": {
          "base_uri": "https://localhost:8080/",
          "height": 35
        },
        "id": "xMONctUD50A3",
        "outputId": "349ed322-0e6d-4f7c-e6ec-1a7325ec45d9"
      },
      "execution_count": null,
      "outputs": [
        {
          "output_type": "execute_result",
          "data": {
            "text/plain": [
              "'China'"
            ],
            "application/vnd.google.colaboratory.intrinsic+json": {
              "type": "string"
            }
          },
          "metadata": {},
          "execution_count": 153
        }
      ]
    },
    {
      "cell_type": "code",
      "source": [
        "#Llamar desde la derecha y desde la izquierda a francia\n",
        "paises[4]"
      ],
      "metadata": {
        "colab": {
          "base_uri": "https://localhost:8080/",
          "height": 35
        },
        "id": "V-MXiUGn6BB0",
        "outputId": "1942ba52-c0d3-4a36-d22d-777cdfd478e0"
      },
      "execution_count": null,
      "outputs": [
        {
          "output_type": "execute_result",
          "data": {
            "text/plain": [
              "'Francia'"
            ],
            "application/vnd.google.colaboratory.intrinsic+json": {
              "type": "string"
            }
          },
          "metadata": {},
          "execution_count": 154
        }
      ]
    },
    {
      "cell_type": "code",
      "source": [
        "paises[-2]"
      ],
      "metadata": {
        "colab": {
          "base_uri": "https://localhost:8080/",
          "height": 35
        },
        "id": "0hZYVzUx6Huy",
        "outputId": "4e37e9c1-0041-4beb-d6a6-045f8648cdd9"
      },
      "execution_count": null,
      "outputs": [
        {
          "output_type": "execute_result",
          "data": {
            "text/plain": [
              "'Francia'"
            ],
            "application/vnd.google.colaboratory.intrinsic+json": {
              "type": "string"
            }
          },
          "metadata": {},
          "execution_count": 155
        }
      ]
    },
    {
      "cell_type": "code",
      "source": [
        "#La tecnica del slicing me permite cortar pedazos de listas y guardarlos en una variable.\n",
        "#Cortemos\n",
        "paises[1:3]"
      ],
      "metadata": {
        "colab": {
          "base_uri": "https://localhost:8080/"
        },
        "id": "p3UJYkWR6Kx-",
        "outputId": "884ac0bb-fe2a-482a-e465-1767d4e34487"
      },
      "execution_count": null,
      "outputs": [
        {
          "output_type": "execute_result",
          "data": {
            "text/plain": [
              "['Ecuadro', 'Mexico']"
            ]
          },
          "metadata": {},
          "execution_count": 156
        }
      ]
    },
    {
      "cell_type": "code",
      "source": [
        "corte_paises=paises[1:3]\n",
        "corte_paises"
      ],
      "metadata": {
        "colab": {
          "base_uri": "https://localhost:8080/"
        },
        "id": "iRBbBCcv61a4",
        "outputId": "9ffd2964-1398-41ef-e1d1-3a3a561b9b89"
      },
      "execution_count": null,
      "outputs": [
        {
          "output_type": "execute_result",
          "data": {
            "text/plain": [
              "['Ecuadro', 'Mexico']"
            ]
          },
          "metadata": {},
          "execution_count": 157
        }
      ]
    },
    {
      "cell_type": "code",
      "source": [
        "paises[1:]"
      ],
      "metadata": {
        "colab": {
          "base_uri": "https://localhost:8080/"
        },
        "id": "tkteYJtA7FIa",
        "outputId": "319d3744-d35a-491c-cf54-06c25d3111d6"
      },
      "execution_count": null,
      "outputs": [
        {
          "output_type": "execute_result",
          "data": {
            "text/plain": [
              "['Ecuadro', 'Mexico', 'China', 'Francia', 'Paraguay']"
            ]
          },
          "metadata": {},
          "execution_count": 158
        }
      ]
    },
    {
      "cell_type": "code",
      "source": [
        "paises[:4]"
      ],
      "metadata": {
        "colab": {
          "base_uri": "https://localhost:8080/"
        },
        "id": "cT94VXNi7T9K",
        "outputId": "195bb5ae-0e92-4681-daa9-a069e4721722"
      },
      "execution_count": null,
      "outputs": [
        {
          "output_type": "execute_result",
          "data": {
            "text/plain": [
              "['Colombia', 'Ecuadro', 'Mexico', 'China']"
            ]
          },
          "metadata": {},
          "execution_count": 159
        }
      ]
    },
    {
      "cell_type": "code",
      "source": [
        "paises[:5]"
      ],
      "metadata": {
        "colab": {
          "base_uri": "https://localhost:8080/"
        },
        "id": "gpjCW9Zc7gR_",
        "outputId": "1d870c17-d7a5-4540-88da-72ea53b744e2"
      },
      "execution_count": null,
      "outputs": [
        {
          "output_type": "execute_result",
          "data": {
            "text/plain": [
              "['Colombia', 'Ecuadro', 'Mexico', 'China', 'Francia']"
            ]
          },
          "metadata": {},
          "execution_count": 160
        }
      ]
    },
    {
      "cell_type": "code",
      "source": [
        "paises"
      ],
      "metadata": {
        "colab": {
          "base_uri": "https://localhost:8080/"
        },
        "id": "X1W9-uNv7lwM",
        "outputId": "1e048b59-f930-471c-ed70-db0a933e7bf1"
      },
      "execution_count": null,
      "outputs": [
        {
          "output_type": "execute_result",
          "data": {
            "text/plain": [
              "['Colombia', 'Ecuadro', 'Mexico', 'China', 'Francia', 'Paraguay']"
            ]
          },
          "metadata": {},
          "execution_count": 161
        }
      ]
    },
    {
      "cell_type": "code",
      "source": [
        "#Asi agrego elementos al final de una lista\n",
        "paises.append(\"RUSIA\")\n",
        "paises"
      ],
      "metadata": {
        "colab": {
          "base_uri": "https://localhost:8080/"
        },
        "id": "KlfqhiGM7rMz",
        "outputId": "2e8bcd27-2351-455e-a56c-ac0a9960d21d"
      },
      "execution_count": null,
      "outputs": [
        {
          "output_type": "execute_result",
          "data": {
            "text/plain": [
              "['Colombia', 'Ecuadro', 'Mexico', 'China', 'Francia', 'Paraguay', 'RUSIA']"
            ]
          },
          "metadata": {},
          "execution_count": 162
        }
      ]
    },
    {
      "cell_type": "code",
      "source": [
        "#Para agreagar un dato en la posicion X de la lista uso insert\n",
        "paises.insert(0,\"Venezuela\")\n",
        "paises"
      ],
      "metadata": {
        "colab": {
          "base_uri": "https://localhost:8080/"
        },
        "id": "GE1BMsnj718X",
        "outputId": "ab91f723-83ac-442c-9a47-ae7c6b6e7fcf"
      },
      "execution_count": null,
      "outputs": [
        {
          "output_type": "execute_result",
          "data": {
            "text/plain": [
              "['Venezuela',\n",
              " 'Colombia',\n",
              " 'Ecuadro',\n",
              " 'Mexico',\n",
              " 'China',\n",
              " 'Francia',\n",
              " 'Paraguay',\n",
              " 'RUSIA']"
            ]
          },
          "metadata": {},
          "execution_count": 163
        }
      ]
    },
    {
      "cell_type": "code",
      "source": [
        "#Tambien puedo concatenar listas\n",
        "paises_europa=[\"Italia\",\"Alemania\",\"España\",\"Portugal\",\"Polonia\"]\n",
        "paises_europa"
      ],
      "metadata": {
        "colab": {
          "base_uri": "https://localhost:8080/"
        },
        "id": "4LwkOB2h8SiG",
        "outputId": "f879667f-d5ee-47b2-cfc5-1c870fd44ca5"
      },
      "execution_count": null,
      "outputs": [
        {
          "output_type": "execute_result",
          "data": {
            "text/plain": [
              "['Italia', 'Alemania', 'España', 'Portugal', 'Polonia']"
            ]
          },
          "metadata": {},
          "execution_count": 164
        }
      ]
    },
    {
      "cell_type": "code",
      "source": [
        "paises+paises_europa"
      ],
      "metadata": {
        "colab": {
          "base_uri": "https://localhost:8080/"
        },
        "id": "-HtNIs_a8yR8",
        "outputId": "bffc5d54-a1f1-4260-e302-b3cc476ce930"
      },
      "execution_count": null,
      "outputs": [
        {
          "output_type": "execute_result",
          "data": {
            "text/plain": [
              "['Venezuela',\n",
              " 'Colombia',\n",
              " 'Ecuadro',\n",
              " 'Mexico',\n",
              " 'China',\n",
              " 'Francia',\n",
              " 'Paraguay',\n",
              " 'RUSIA',\n",
              " 'Italia',\n",
              " 'Alemania',\n",
              " 'España',\n",
              " 'Portugal',\n",
              " 'Polonia']"
            ]
          },
          "metadata": {},
          "execution_count": 165
        }
      ]
    },
    {
      "cell_type": "code",
      "source": [
        "paises_completo=paises+paises_europa\n",
        "paises_completo"
      ],
      "metadata": {
        "colab": {
          "base_uri": "https://localhost:8080/"
        },
        "id": "nYQxvUTm86IB",
        "outputId": "50c92564-1b93-4cce-c9c1-1b9687a0f53e"
      },
      "execution_count": null,
      "outputs": [
        {
          "output_type": "execute_result",
          "data": {
            "text/plain": [
              "['Venezuela',\n",
              " 'Colombia',\n",
              " 'Ecuadro',\n",
              " 'Mexico',\n",
              " 'China',\n",
              " 'Francia',\n",
              " 'Paraguay',\n",
              " 'RUSIA',\n",
              " 'Italia',\n",
              " 'Alemania',\n",
              " 'España',\n",
              " 'Portugal',\n",
              " 'Polonia']"
            ]
          },
          "metadata": {},
          "execution_count": 166
        }
      ]
    },
    {
      "cell_type": "code",
      "source": [
        "paises_completos_lista=[paises,paises_europa]\n",
        "paises_completos_lista"
      ],
      "metadata": {
        "colab": {
          "base_uri": "https://localhost:8080/"
        },
        "id": "D06SujN09DDL",
        "outputId": "83f71112-9d41-43b5-bd93-33d94fe89307"
      },
      "execution_count": null,
      "outputs": [
        {
          "output_type": "execute_result",
          "data": {
            "text/plain": [
              "[['Venezuela',\n",
              "  'Colombia',\n",
              "  'Ecuadro',\n",
              "  'Mexico',\n",
              "  'China',\n",
              "  'Francia',\n",
              "  'Paraguay',\n",
              "  'RUSIA'],\n",
              " ['Italia', 'Alemania', 'España', 'Portugal', 'Polonia']]"
            ]
          },
          "metadata": {},
          "execution_count": 167
        }
      ]
    },
    {
      "cell_type": "code",
      "source": [
        "#Ejercicio 3° clase 1 octubre 2024\n",
        "nombre=\"Arnulfo\"\n",
        "apellidos=\"Segura Romero\"\n",
        "edad=38\n",
        "cedula=1022945115\n",
        "estado_civil=\"casado\"\n",
        "estatura=1.68\n",
        "datos_personales=[nombre,apellidos,edad,cedula,estado_civil,estatura]\n",
        "datos_personales"
      ],
      "metadata": {
        "id": "FwKpw-uK97Cf",
        "colab": {
          "base_uri": "https://localhost:8080/"
        },
        "outputId": "4cba3a29-f2b5-4e55-e0fb-d5201b2bf97e"
      },
      "execution_count": null,
      "outputs": [
        {
          "output_type": "execute_result",
          "data": {
            "text/plain": [
              "['Arnulfo', 'Segura Romero', 38, 1022945115, 'casado', 1.68]"
            ]
          },
          "metadata": {},
          "execution_count": 168
        }
      ]
    },
    {
      "cell_type": "code",
      "source": [
        "#Lista de familiares agregando uno a uno al final de la lista con la funcion append\n",
        "familia=[]\n",
        "familia.append(\"Jeimy Lorena Perez\")\n",
        "familia.append(\"Celeste Segura Perez\")\n",
        "familia.append(\"Sebastian Segura Perez\")\n",
        "familia.append(\"Silverio Segura\")\n",
        "familia.append(\"Zenaida Romero\")\n",
        "familia"
      ],
      "metadata": {
        "colab": {
          "base_uri": "https://localhost:8080/"
        },
        "id": "v1bR64gWBz9u",
        "outputId": "1d9030f5-a891-4e04-cb94-26ee095d680e"
      },
      "execution_count": null,
      "outputs": [
        {
          "output_type": "execute_result",
          "data": {
            "text/plain": [
              "['Jeimy Lorena Perez',\n",
              " 'Celeste Segura Perez',\n",
              " 'Sebastian Segura Perez',\n",
              " 'Silverio Segura',\n",
              " 'Zenaida Romero']"
            ]
          },
          "metadata": {},
          "execution_count": 169
        }
      ]
    },
    {
      "cell_type": "code",
      "source": [
        "#Se agrega la edad en la pisicin correspondiente usando la funcion familia.insert(1,39)\n",
        "familia\n",
        "familia.insert(1,39)\n",
        "familia\n",
        "familia.insert(3,6)\n",
        "familia\n",
        "familia.insert(5,2)\n",
        "familia\n",
        "familia.insert(7,65)\n",
        "familia\n",
        "familia.insert(9,65)\n",
        "familia"
      ],
      "metadata": {
        "colab": {
          "base_uri": "https://localhost:8080/"
        },
        "id": "BUSuNoz5EcDt",
        "outputId": "d52e8ba4-c838-49d9-937f-4575d57631b8"
      },
      "execution_count": null,
      "outputs": [
        {
          "output_type": "execute_result",
          "data": {
            "text/plain": [
              "['Jeimy Lorena Perez',\n",
              " 39,\n",
              " 'Celeste Segura Perez',\n",
              " 6,\n",
              " 'Sebastian Segura Perez',\n",
              " 2,\n",
              " 'Silverio Segura',\n",
              " 65,\n",
              " 'Zenaida Romero',\n",
              " 65]"
            ]
          },
          "metadata": {},
          "execution_count": 170
        }
      ]
    },
    {
      "cell_type": "code",
      "source": [
        "edad_1=input(\"Hola que te parece si antes de aportar validamos si eres mayor de edad, ingresa tu edad:\")"
      ],
      "metadata": {
        "colab": {
          "base_uri": "https://localhost:8080/"
        },
        "id": "60jugCszGqlL",
        "outputId": "dae68be0-7e5e-4cc8-ff30-d76ab9e4c1a3"
      },
      "execution_count": null,
      "outputs": [
        {
          "name": "stdout",
          "output_type": "stream",
          "text": [
            "Hola que te parece si antes de aportar validamos si eres mayor de edad, ingresa tu edad:12\n"
          ]
        }
      ]
    },
    {
      "cell_type": "code",
      "source": [
        "#Esta funcion me sirve para tomar datos del usuario.\n",
        "nombre_1=input(\"Ingresa tu nombre: \")\n",
        "print(\"la verdad hoy es un dia genial\",nombre_1)"
      ],
      "metadata": {
        "colab": {
          "base_uri": "https://localhost:8080/"
        },
        "id": "tNauDEAiKvG3",
        "outputId": "48f4107f-de02-44af-b406-acce991e6302"
      },
      "execution_count": null,
      "outputs": [
        {
          "output_type": "stream",
          "name": "stdout",
          "text": [
            "Ingresa tu nombre: arnulfo\n",
            "la verdad hoy es un dia genial arnulfo\n"
          ]
        }
      ]
    },
    {
      "cell_type": "code",
      "source": [
        "paises"
      ],
      "metadata": {
        "colab": {
          "base_uri": "https://localhost:8080/"
        },
        "id": "4rIKjPQ9K7mu",
        "outputId": "5e82c1b1-5fe7-4641-e5e5-48aed07dcba1"
      },
      "execution_count": null,
      "outputs": [
        {
          "output_type": "execute_result",
          "data": {
            "text/plain": [
              "['Venezuela',\n",
              " 'Colombia',\n",
              " 'Ecuadro',\n",
              " 'Mexico',\n",
              " 'China',\n",
              " 'Francia',\n",
              " 'Paraguay',\n",
              " 'RUSIA']"
            ]
          },
          "metadata": {},
          "execution_count": 173
        }
      ]
    },
    {
      "cell_type": "code",
      "source": [
        "#para remover datos de las listas utilizo el metodo remove\n",
        "paises.remove(\"RUSIA\")\n",
        "paises"
      ],
      "metadata": {
        "colab": {
          "base_uri": "https://localhost:8080/"
        },
        "id": "guVmwt8oLgbf",
        "outputId": "ce1f02f8-7933-4de9-f073-12f0d0d6e201"
      },
      "execution_count": null,
      "outputs": [
        {
          "output_type": "execute_result",
          "data": {
            "text/plain": [
              "['Venezuela', 'Colombia', 'Ecuadro', 'Mexico', 'China', 'Francia', 'Paraguay']"
            ]
          },
          "metadata": {},
          "execution_count": 174
        }
      ]
    },
    {
      "cell_type": "code",
      "source": [
        "#Otro metodo para eliminar es el metodo pop, este me permite eliminar por posicion\n",
        "paises.pop(4)"
      ],
      "metadata": {
        "colab": {
          "base_uri": "https://localhost:8080/",
          "height": 35
        },
        "id": "CzoaZDJ-LyoP",
        "outputId": "17034719-b5a1-4789-e96d-513a101104c2"
      },
      "execution_count": null,
      "outputs": [
        {
          "output_type": "execute_result",
          "data": {
            "text/plain": [
              "'China'"
            ],
            "application/vnd.google.colaboratory.intrinsic+json": {
              "type": "string"
            }
          },
          "metadata": {},
          "execution_count": 175
        }
      ]
    },
    {
      "cell_type": "code",
      "source": [
        "paises"
      ],
      "metadata": {
        "colab": {
          "base_uri": "https://localhost:8080/"
        },
        "id": "7Zgsm3HJMI65",
        "outputId": "142a110d-cb5a-4f39-f0ea-6c16e6eee80b"
      },
      "execution_count": null,
      "outputs": [
        {
          "output_type": "execute_result",
          "data": {
            "text/plain": [
              "['Venezuela', 'Colombia', 'Ecuadro', 'Mexico', 'Francia', 'Paraguay']"
            ]
          },
          "metadata": {},
          "execution_count": 176
        }
      ]
    },
    {
      "cell_type": "code",
      "source": [
        "#Para elimiar definitivamente se usa la funcion del\n",
        "del paises[4]\n",
        "paises"
      ],
      "metadata": {
        "colab": {
          "base_uri": "https://localhost:8080/"
        },
        "id": "8k5-sHU3MJp7",
        "outputId": "6afda329-fc5b-487e-95bb-a91619e9b672"
      },
      "execution_count": null,
      "outputs": [
        {
          "output_type": "execute_result",
          "data": {
            "text/plain": [
              "['Venezuela', 'Colombia', 'Ecuadro', 'Mexico', 'Paraguay']"
            ]
          },
          "metadata": {},
          "execution_count": 177
        }
      ]
    },
    {
      "cell_type": "code",
      "source": [
        "#Ordenar las listas, las puedo ordenar de mayor a menor, viceversa o alfabeticamente, con el metodo sort\n",
        "paises.sort()\n",
        "paises"
      ],
      "metadata": {
        "colab": {
          "base_uri": "https://localhost:8080/"
        },
        "id": "SzlsOzMCMj3-",
        "outputId": "125cacc5-f01e-4d7a-e686-805998ada705"
      },
      "execution_count": null,
      "outputs": [
        {
          "output_type": "execute_result",
          "data": {
            "text/plain": [
              "['Colombia', 'Ecuadro', 'Mexico', 'Paraguay', 'Venezuela']"
            ]
          },
          "metadata": {},
          "execution_count": 178
        }
      ]
    },
    {
      "cell_type": "code",
      "source": [
        "digitos=[2,4,1,3,5,7,9,8,6,0]\n",
        "digitos.sort()\n",
        "digitos"
      ],
      "metadata": {
        "colab": {
          "base_uri": "https://localhost:8080/"
        },
        "id": "IxY69natObK-",
        "outputId": "4ca32301-bf30-4048-a7ec-e3176a96443d"
      },
      "execution_count": null,
      "outputs": [
        {
          "output_type": "execute_result",
          "data": {
            "text/plain": [
              "[0, 1, 2, 3, 4, 5, 6, 7, 8, 9]"
            ]
          },
          "metadata": {},
          "execution_count": 179
        }
      ]
    },
    {
      "cell_type": "code",
      "source": [
        "digitos.sort(reverse=True)\n",
        "digitos"
      ],
      "metadata": {
        "colab": {
          "base_uri": "https://localhost:8080/"
        },
        "id": "_r3qGmcjOuUe",
        "outputId": "13c8d78a-f586-4c34-8efe-03c903c0b126"
      },
      "execution_count": null,
      "outputs": [
        {
          "output_type": "execute_result",
          "data": {
            "text/plain": [
              "[9, 8, 7, 6, 5, 4, 3, 2, 1, 0]"
            ]
          },
          "metadata": {},
          "execution_count": 180
        }
      ]
    },
    {
      "cell_type": "code",
      "source": [
        "paises.sort(reverse=True)\n",
        "paises"
      ],
      "metadata": {
        "colab": {
          "base_uri": "https://localhost:8080/"
        },
        "id": "10BpPjw3O94L",
        "outputId": "ae0eeedf-86e6-4bad-d1eb-9a7a0d7b4375"
      },
      "execution_count": null,
      "outputs": [
        {
          "output_type": "execute_result",
          "data": {
            "text/plain": [
              "['Venezuela', 'Paraguay', 'Mexico', 'Ecuadro', 'Colombia']"
            ]
          },
          "metadata": {},
          "execution_count": 181
        }
      ]
    },
    {
      "cell_type": "code",
      "source": [
        "paises_copia_verdadera=paises.copy()\n",
        "paises_copia_verdadera\n"
      ],
      "metadata": {
        "colab": {
          "base_uri": "https://localhost:8080/"
        },
        "id": "ybb4DJ2MPC37",
        "outputId": "145324da-d760-4466-84f6-961cd0d90e76"
      },
      "execution_count": null,
      "outputs": [
        {
          "output_type": "execute_result",
          "data": {
            "text/plain": [
              "['Venezuela', 'Paraguay', 'Mexico', 'Ecuadro', 'Colombia']"
            ]
          },
          "metadata": {},
          "execution_count": 182
        }
      ]
    },
    {
      "cell_type": "code",
      "source": [
        "#Esto sirve para cortar listas de principio a fin\n",
        "paises_copia_verdadera_2=paises[:]\n",
        "paises_copia_verdadera_2"
      ],
      "metadata": {
        "colab": {
          "base_uri": "https://localhost:8080/"
        },
        "id": "ucpskcMuPulQ",
        "outputId": "3ffc1e6a-7350-46da-f88a-024d8827061a"
      },
      "execution_count": null,
      "outputs": [
        {
          "output_type": "execute_result",
          "data": {
            "text/plain": [
              "['Venezuela', 'Paraguay', 'Mexico', 'Ecuadro', 'Colombia']"
            ]
          },
          "metadata": {},
          "execution_count": 183
        }
      ]
    },
    {
      "cell_type": "code",
      "source": [],
      "metadata": {
        "id": "4cBz2jPOP7ox"
      },
      "execution_count": null,
      "outputs": []
    },
    {
      "cell_type": "markdown",
      "source": [
        "**Los diccionarios son tipos de datos que tienen una llave y un valor, a la combinacion de llave con valor se le conoce como item, en los diccionarios puedo usar metodos parecidos a los de las listas.**"
      ],
      "metadata": {
        "id": "CTc7YY2QQMh-"
      }
    },
    {
      "cell_type": "code",
      "source": [
        "diccionario_ing_esp={\"casa\":\"house\",\"enterder\":\"understand\",\"sediento\":\"thirty\",\"rojo\":\"red\",\"ocupado\":\"bussy\",}\n",
        "diccionario_ing_esp"
      ],
      "metadata": {
        "colab": {
          "base_uri": "https://localhost:8080/"
        },
        "id": "yCzljExkQbzE",
        "outputId": "3f09419f-9346-4c34-aea5-ec0135978cbc"
      },
      "execution_count": null,
      "outputs": [
        {
          "output_type": "execute_result",
          "data": {
            "text/plain": [
              "{'casa': 'house',\n",
              " 'enterder': 'understand',\n",
              " 'sediento': 'thirty',\n",
              " 'rojo': 'red',\n",
              " 'ocupado': 'bussy'}"
            ]
          },
          "metadata": {},
          "execution_count": 184
        }
      ]
    },
    {
      "cell_type": "code",
      "source": [
        "#Para ver un valor de una llave determinada lo hago de la siguiente manera:\n",
        "diccionario_ing_esp[\"casa\"]"
      ],
      "metadata": {
        "colab": {
          "base_uri": "https://localhost:8080/",
          "height": 35
        },
        "id": "t2qBTB7vR-BK",
        "outputId": "108caa27-12ec-4e88-f955-1e967d91eeab"
      },
      "execution_count": null,
      "outputs": [
        {
          "output_type": "execute_result",
          "data": {
            "text/plain": [
              "'house'"
            ],
            "application/vnd.google.colaboratory.intrinsic+json": {
              "type": "string"
            }
          },
          "metadata": {},
          "execution_count": 185
        }
      ]
    },
    {
      "cell_type": "code",
      "source": [
        "#Para traer todas las llaves de un diccionarios keys\n",
        "diccionario_ing_esp.keys()"
      ],
      "metadata": {
        "colab": {
          "base_uri": "https://localhost:8080/"
        },
        "id": "cOqY4VRgSQYg",
        "outputId": "43e9334e-51e4-466d-f168-ae830345797e"
      },
      "execution_count": null,
      "outputs": [
        {
          "output_type": "execute_result",
          "data": {
            "text/plain": [
              "dict_keys(['casa', 'enterder', 'sediento', 'rojo', 'ocupado'])"
            ]
          },
          "metadata": {},
          "execution_count": 186
        }
      ]
    },
    {
      "cell_type": "code",
      "source": [
        "#Para traer los valores del diccionarios:\n",
        "diccionario_ing_esp.values()"
      ],
      "metadata": {
        "colab": {
          "base_uri": "https://localhost:8080/"
        },
        "id": "fv851FsQSd5-",
        "outputId": "7ad1532b-071b-4a87-92a3-33c2d63c099d"
      },
      "execution_count": null,
      "outputs": [
        {
          "output_type": "execute_result",
          "data": {
            "text/plain": [
              "dict_values(['house', 'understand', 'thirty', 'red', 'bussy'])"
            ]
          },
          "metadata": {},
          "execution_count": 187
        }
      ]
    },
    {
      "cell_type": "code",
      "source": [
        "#Para mostrar todo el diccionarios\n",
        "diccionario_ing_esp"
      ],
      "metadata": {
        "colab": {
          "base_uri": "https://localhost:8080/"
        },
        "id": "sZlg9G6jS2G4",
        "outputId": "65e8c8e9-c647-4ebd-eeea-42ac596db8e7"
      },
      "execution_count": null,
      "outputs": [
        {
          "output_type": "execute_result",
          "data": {
            "text/plain": [
              "{'casa': 'house',\n",
              " 'enterder': 'understand',\n",
              " 'sediento': 'thirty',\n",
              " 'rojo': 'red',\n",
              " 'ocupado': 'bussy'}"
            ]
          },
          "metadata": {},
          "execution_count": 188
        }
      ]
    },
    {
      "cell_type": "code",
      "source": [
        "diccionario_ing_esp.items()"
      ],
      "metadata": {
        "colab": {
          "base_uri": "https://localhost:8080/"
        },
        "id": "FC95vUmUS9lf",
        "outputId": "7b584cc5-6f92-477d-c17b-81fb50fdd87d"
      },
      "execution_count": null,
      "outputs": [
        {
          "output_type": "execute_result",
          "data": {
            "text/plain": [
              "dict_items([('casa', 'house'), ('enterder', 'understand'), ('sediento', 'thirty'), ('rojo', 'red'), ('ocupado', 'bussy')])"
            ]
          },
          "metadata": {},
          "execution_count": 189
        }
      ]
    },
    {
      "cell_type": "code",
      "source": [
        "type(diccionario_ing_esp)"
      ],
      "metadata": {
        "colab": {
          "base_uri": "https://localhost:8080/"
        },
        "id": "IP-Vn3LETB9W",
        "outputId": "3c0854dc-be0c-44ce-ee9b-d87d423403e9"
      },
      "execution_count": null,
      "outputs": [
        {
          "output_type": "execute_result",
          "data": {
            "text/plain": [
              "dict"
            ]
          },
          "metadata": {},
          "execution_count": 190
        }
      ]
    },
    {
      "cell_type": "code",
      "source": [
        "#Para agreagr un nuevo elemento a un diccionario lo hago de la siguiente manera:\n",
        "diccionario_ing_esp[\"azul\"]=\"blue\"\n",
        "diccionario_ing_esp"
      ],
      "metadata": {
        "colab": {
          "base_uri": "https://localhost:8080/"
        },
        "id": "WuCz2TG_TJv1",
        "outputId": "db637fa5-4a60-4365-914d-bc1af1b2c7a8"
      },
      "execution_count": null,
      "outputs": [
        {
          "output_type": "execute_result",
          "data": {
            "text/plain": [
              "{'casa': 'house',\n",
              " 'enterder': 'understand',\n",
              " 'sediento': 'thirty',\n",
              " 'rojo': 'red',\n",
              " 'ocupado': 'bussy',\n",
              " 'azul': 'blue'}"
            ]
          },
          "metadata": {},
          "execution_count": 191
        }
      ]
    },
    {
      "cell_type": "code",
      "source": [
        "#Para actualizar un dato uso el update\n",
        "diccionario_ing_esp.update({\"negro\":\"blanco\"})\n",
        "diccionario_ing_esp"
      ],
      "metadata": {
        "colab": {
          "base_uri": "https://localhost:8080/"
        },
        "id": "FCC1GnASTXn8",
        "outputId": "79eb5fcf-98c8-4557-aefd-1b8738d5c4a4"
      },
      "execution_count": null,
      "outputs": [
        {
          "output_type": "execute_result",
          "data": {
            "text/plain": [
              "{'casa': 'house',\n",
              " 'enterder': 'understand',\n",
              " 'sediento': 'thirty',\n",
              " 'rojo': 'red',\n",
              " 'ocupado': 'bussy',\n",
              " 'azul': 'blue',\n",
              " 'negro': 'blanco'}"
            ]
          },
          "metadata": {},
          "execution_count": 192
        }
      ]
    },
    {
      "cell_type": "code",
      "source": [
        "#Tambien puedo agragar una lista en un diccionario\n",
        "diccionario_ing_esp.update({\"gris\":\"grey\",\"pronombres\":[\"he,she,it\"]})\n",
        "diccionario_ing_esp"
      ],
      "metadata": {
        "colab": {
          "base_uri": "https://localhost:8080/"
        },
        "id": "ja-Zm9P3Ty4I",
        "outputId": "e37d0686-97c9-41db-85d6-ed5526414137"
      },
      "execution_count": null,
      "outputs": [
        {
          "output_type": "execute_result",
          "data": {
            "text/plain": [
              "{'casa': 'house',\n",
              " 'enterder': 'understand',\n",
              " 'sediento': 'thirty',\n",
              " 'rojo': 'red',\n",
              " 'ocupado': 'bussy',\n",
              " 'azul': 'blue',\n",
              " 'negro': 'blanco',\n",
              " 'gris': 'grey',\n",
              " 'pronombres': ['he,she,it']}"
            ]
          },
          "metadata": {},
          "execution_count": 193
        }
      ]
    },
    {
      "cell_type": "code",
      "source": [
        "diccionario_ing_esp.values()"
      ],
      "metadata": {
        "colab": {
          "base_uri": "https://localhost:8080/"
        },
        "id": "6F4h8ou4UtUG",
        "outputId": "bd4c80ee-b4ef-4bb3-c584-1b6e84bcf915"
      },
      "execution_count": null,
      "outputs": [
        {
          "output_type": "execute_result",
          "data": {
            "text/plain": [
              "dict_values(['house', 'understand', 'thirty', 'red', 'bussy', 'blue', 'blanco', 'grey', ['he,she,it']])"
            ]
          },
          "metadata": {},
          "execution_count": 194
        }
      ]
    },
    {
      "cell_type": "code",
      "source": [
        "#Para borrar datos uso el metodo pop\n",
        "diccionario_ing_esp.pop(\"gris\")\n",
        "diccionario_ing_esp"
      ],
      "metadata": {
        "colab": {
          "base_uri": "https://localhost:8080/"
        },
        "id": "5gIeDcYiVLAB",
        "outputId": "aab7266b-8888-40aa-a89a-54d6cb79d758"
      },
      "execution_count": null,
      "outputs": [
        {
          "output_type": "execute_result",
          "data": {
            "text/plain": [
              "{'casa': 'house',\n",
              " 'enterder': 'understand',\n",
              " 'sediento': 'thirty',\n",
              " 'rojo': 'red',\n",
              " 'ocupado': 'bussy',\n",
              " 'azul': 'blue',\n",
              " 'negro': 'blanco',\n",
              " 'pronombres': ['he,she,it']}"
            ]
          },
          "metadata": {},
          "execution_count": 195
        }
      ]
    },
    {
      "cell_type": "code",
      "source": [
        "#Para eliminar del diccionario podemos usar del\n",
        "del diccionario_ing_esp[\"pronombres\"]\n",
        "diccionario_ing_esp"
      ],
      "metadata": {
        "colab": {
          "base_uri": "https://localhost:8080/"
        },
        "id": "VBAo1MmVVkrO",
        "outputId": "a0412971-e199-4a9b-c3aa-09f04b257c7d"
      },
      "execution_count": null,
      "outputs": [
        {
          "output_type": "execute_result",
          "data": {
            "text/plain": [
              "{'casa': 'house',\n",
              " 'enterder': 'understand',\n",
              " 'sediento': 'thirty',\n",
              " 'rojo': 'red',\n",
              " 'ocupado': 'bussy',\n",
              " 'azul': 'blue',\n",
              " 'negro': 'blanco'}"
            ]
          },
          "metadata": {},
          "execution_count": 196
        }
      ]
    },
    {
      "cell_type": "code",
      "source": [],
      "metadata": {
        "id": "A62cT3kRVyrA"
      },
      "execution_count": null,
      "outputs": []
    },
    {
      "cell_type": "markdown",
      "source": [
        "**Operadores Logicos: se usan para comprobar condiciones y devolver True o False dependiendo cual sea el caso, son escenciales para la toma de desiciones y oara la creacion de la logica de programacion. **"
      ],
      "metadata": {
        "id": "t1XnfqSjbfXz"
      }
    },
    {
      "cell_type": "code",
      "source": [
        "#El primero es and que traduce Y\n",
        "print(\"operador and que significa y\")\n",
        "print(\"para que y sea verdadero todas las condiciones deben ser verdaderas\")\n",
        "5>3 and 5<10"
      ],
      "metadata": {
        "colab": {
          "base_uri": "https://localhost:8080/"
        },
        "id": "_eO5NT2mbuvW",
        "outputId": "23b0614f-5597-47e1-f9f6-12d1e91d2baa"
      },
      "execution_count": null,
      "outputs": [
        {
          "output_type": "stream",
          "name": "stdout",
          "text": [
            "operador and que significa y\n",
            "para que y sea verdadero todas las condiciones deben ser verdaderas\n"
          ]
        },
        {
          "output_type": "execute_result",
          "data": {
            "text/plain": [
              "True"
            ]
          },
          "metadata": {},
          "execution_count": 197
        }
      ]
    },
    {
      "cell_type": "code",
      "source": [
        "5<3 and 5<10"
      ],
      "metadata": {
        "colab": {
          "base_uri": "https://localhost:8080/"
        },
        "id": "2J_zT-ofcL4x",
        "outputId": "8473519d-ca96-444a-d45c-546e45dbb9ff"
      },
      "execution_count": null,
      "outputs": [
        {
          "output_type": "execute_result",
          "data": {
            "text/plain": [
              "False"
            ]
          },
          "metadata": {},
          "execution_count": 198
        }
      ]
    },
    {
      "cell_type": "code",
      "source": [
        "#El segundo operador logico es el or, que significa o, en or por lo menos una de las condicones debe ser verdadera\n",
        "5<3 or 5<10\n"
      ],
      "metadata": {
        "colab": {
          "base_uri": "https://localhost:8080/"
        },
        "id": "Cvh33xWncXFm",
        "outputId": "007a77a2-6bf7-40ba-f29b-fdc81e4ce1de"
      },
      "execution_count": null,
      "outputs": [
        {
          "output_type": "execute_result",
          "data": {
            "text/plain": [
              "True"
            ]
          },
          "metadata": {},
          "execution_count": 199
        }
      ]
    },
    {
      "cell_type": "code",
      "source": [
        "5<3 and 5>10"
      ],
      "metadata": {
        "colab": {
          "base_uri": "https://localhost:8080/"
        },
        "id": "nyh5IN0rcz9-",
        "outputId": "35d721c5-12cc-4ae8-8a50-40cafa748397"
      },
      "execution_count": null,
      "outputs": [
        {
          "output_type": "execute_result",
          "data": {
            "text/plain": [
              "False"
            ]
          },
          "metadata": {},
          "execution_count": 200
        }
      ]
    },
    {
      "cell_type": "code",
      "source": [
        "5>3 and 5<10"
      ],
      "metadata": {
        "colab": {
          "base_uri": "https://localhost:8080/"
        },
        "id": "TIjgzfSkc8c2",
        "outputId": "58edb147-855b-46b9-b677-fbf07819aeb7"
      },
      "execution_count": null,
      "outputs": [
        {
          "output_type": "execute_result",
          "data": {
            "text/plain": [
              "True"
            ]
          },
          "metadata": {},
          "execution_count": 201
        }
      ]
    },
    {
      "cell_type": "code",
      "source": [
        "#Exite otro oeprador logico que se llama not\n",
        "print(\"operador NOT (negacion lógica)\")\n",
        "not 5>3"
      ],
      "metadata": {
        "colab": {
          "base_uri": "https://localhost:8080/"
        },
        "id": "cniMYjiCdBdm",
        "outputId": "218aeb2a-cd6b-4b5b-b0e1-4cd9bfa3069f"
      },
      "execution_count": null,
      "outputs": [
        {
          "output_type": "stream",
          "name": "stdout",
          "text": [
            "operador NOT (negacion lógica)\n"
          ]
        },
        {
          "output_type": "execute_result",
          "data": {
            "text/plain": [
              "False"
            ]
          },
          "metadata": {},
          "execution_count": 202
        }
      ]
    },
    {
      "cell_type": "code",
      "source": [],
      "metadata": {
        "id": "OJkFPXZoddXh"
      },
      "execution_count": null,
      "outputs": []
    },
    {
      "cell_type": "markdown",
      "source": [
        "**Operaciones matematicas: En este momento solo usaremos las mas basicas, que son las escenciales para cualquier lenguaje de programacion, tenemos suma, resta, multiplicacion, division, potenciacion y modulo. **"
      ],
      "metadata": {
        "id": "aQGXMR-Tdiji"
      }
    },
    {
      "cell_type": "code",
      "source": [
        "#Suma se representa con el simbiolo + que tambien sirve para concatenar\n",
        "6+5"
      ],
      "metadata": {
        "colab": {
          "base_uri": "https://localhost:8080/"
        },
        "id": "DPKjvnmkdw5c",
        "outputId": "330749cf-e682-470d-8e20-8bf1b6aaf671"
      },
      "execution_count": null,
      "outputs": [
        {
          "output_type": "execute_result",
          "data": {
            "text/plain": [
              "11"
            ]
          },
          "metadata": {},
          "execution_count": 203
        }
      ]
    },
    {
      "cell_type": "code",
      "source": [
        "#Resta se representa con -\n",
        "6-5"
      ],
      "metadata": {
        "colab": {
          "base_uri": "https://localhost:8080/"
        },
        "id": "GTJg0c5ld5nU",
        "outputId": "147c08f9-cedb-4c66-fe57-ea6454a92822"
      },
      "execution_count": null,
      "outputs": [
        {
          "output_type": "execute_result",
          "data": {
            "text/plain": [
              "1"
            ]
          },
          "metadata": {},
          "execution_count": 204
        }
      ]
    },
    {
      "cell_type": "code",
      "source": [
        "#Multiplicación con *, me srive para multiliciar cadenas\n",
        "6*5"
      ],
      "metadata": {
        "colab": {
          "base_uri": "https://localhost:8080/"
        },
        "id": "LCkEqysRd9TV",
        "outputId": "4ee9f665-d371-459e-c6a5-c6ecf15a2f5e"
      },
      "execution_count": null,
      "outputs": [
        {
          "output_type": "execute_result",
          "data": {
            "text/plain": [
              "30"
            ]
          },
          "metadata": {},
          "execution_count": 205
        }
      ]
    },
    {
      "cell_type": "code",
      "source": [
        "#División, uso el / y me da resultados con decimales\n",
        "37/5\n"
      ],
      "metadata": {
        "colab": {
          "base_uri": "https://localhost:8080/"
        },
        "id": "s4Fe0asQeEIW",
        "outputId": "94f0ce81-c89f-42bf-fd14-a98fc884929a"
      },
      "execution_count": null,
      "outputs": [
        {
          "output_type": "execute_result",
          "data": {
            "text/plain": [
              "7.4"
            ]
          },
          "metadata": {},
          "execution_count": 206
        }
      ]
    },
    {
      "cell_type": "code",
      "source": [
        "#Potenciación se usa el doble asterico **, primero la base y luego el exponente\n",
        "2**3"
      ],
      "metadata": {
        "colab": {
          "base_uri": "https://localhost:8080/"
        },
        "id": "RqWjDVUzefJh",
        "outputId": "5dc684c8-b216-4696-cf38-6e83c64a4bb3"
      },
      "execution_count": null,
      "outputs": [
        {
          "output_type": "execute_result",
          "data": {
            "text/plain": [
              "8"
            ]
          },
          "metadata": {},
          "execution_count": 207
        }
      ]
    },
    {
      "cell_type": "code",
      "source": [
        "#Modulo % da el residuo de una cociente\n",
        "23%4"
      ],
      "metadata": {
        "colab": {
          "base_uri": "https://localhost:8080/"
        },
        "id": "gdL7oi1qeqXU",
        "outputId": "9d3a74a9-3089-4e3b-92bb-5165e05b3df8"
      },
      "execution_count": null,
      "outputs": [
        {
          "output_type": "execute_result",
          "data": {
            "text/plain": [
              "3"
            ]
          },
          "metadata": {},
          "execution_count": 208
        }
      ]
    },
    {
      "cell_type": "code",
      "source": [
        "#Operadores de comparación, dice si la compracion es verdadera o falsa\n",
        "#Para comparar si dos valores son iguales uso ==\n",
        "(3+29)==21"
      ],
      "metadata": {
        "colab": {
          "base_uri": "https://localhost:8080/"
        },
        "id": "oFgc2NKIfe2p",
        "outputId": "0a2c66d6-ba43-41bd-e774-00750f6abaf5"
      },
      "execution_count": null,
      "outputs": [
        {
          "output_type": "execute_result",
          "data": {
            "text/plain": [
              "False"
            ]
          },
          "metadata": {},
          "execution_count": 209
        }
      ]
    },
    {
      "cell_type": "code",
      "source": [
        "#Para hacer la comparacion diferencte de !=\n",
        "(3+29)!=21"
      ],
      "metadata": {
        "colab": {
          "base_uri": "https://localhost:8080/"
        },
        "id": "4QeBM1rJftsQ",
        "outputId": "6d2750f1-d428-4193-b2c2-c3ebb9fd1fd6"
      },
      "execution_count": null,
      "outputs": [
        {
          "output_type": "execute_result",
          "data": {
            "text/plain": [
              "True"
            ]
          },
          "metadata": {},
          "execution_count": 210
        }
      ]
    },
    {
      "cell_type": "code",
      "source": [
        "#Mayor que >\n",
        "(3+29)>21"
      ],
      "metadata": {
        "colab": {
          "base_uri": "https://localhost:8080/"
        },
        "id": "qBHor0rzgElj",
        "outputId": "0fe17d96-3055-4b4a-8372-ceb80627de5d"
      },
      "execution_count": null,
      "outputs": [
        {
          "output_type": "execute_result",
          "data": {
            "text/plain": [
              "True"
            ]
          },
          "metadata": {},
          "execution_count": 211
        }
      ]
    },
    {
      "cell_type": "code",
      "source": [
        "#Menor que <\n",
        "(3+29)<21"
      ],
      "metadata": {
        "colab": {
          "base_uri": "https://localhost:8080/"
        },
        "id": "J6DKH1bCgPnX",
        "outputId": "76776b3e-ca55-4e42-96b8-7dce30277959"
      },
      "execution_count": null,
      "outputs": [
        {
          "output_type": "execute_result",
          "data": {
            "text/plain": [
              "False"
            ]
          },
          "metadata": {},
          "execution_count": 212
        }
      ]
    },
    {
      "cell_type": "code",
      "source": [
        "#Menor o igual o mayor o igual <=, >=\n",
        "(3+18) <= 21"
      ],
      "metadata": {
        "colab": {
          "base_uri": "https://localhost:8080/"
        },
        "id": "u5wDva8ogVLn",
        "outputId": "339d55ce-8f7c-4250-ec4c-7c89f7edb564"
      },
      "execution_count": null,
      "outputs": [
        {
          "output_type": "execute_result",
          "data": {
            "text/plain": [
              "True"
            ]
          },
          "metadata": {},
          "execution_count": 213
        }
      ]
    },
    {
      "cell_type": "code",
      "source": [
        "\n",
        "#IF condicion\n",
        "#else: codigo a ejecutar\n",
        "edad_michael=16\n",
        "if edad_michael >= 18:\n",
        "  print(\"Michael estas muy joven\")\n",
        "else:\n",
        "  print(\"puedes entar\")"
      ],
      "metadata": {
        "colab": {
          "base_uri": "https://localhost:8080/"
        },
        "id": "5mPEcRYxh5s0",
        "outputId": "28e8f475-523d-478f-b834-21808599276c"
      },
      "execution_count": null,
      "outputs": [
        {
          "output_type": "stream",
          "name": "stdout",
          "text": [
            "puedes entar\n"
          ]
        }
      ]
    },
    {
      "cell_type": "markdown",
      "source": [],
      "metadata": {
        "id": "7aC2T5mglIw5"
      }
    },
    {
      "cell_type": "markdown",
      "source": [
        "**condicionales: me permiten ejecutar un bloque de codigo si la condicion es verdadera o falsa, sirven como entes de control, su sintaxis es de la siguiente manera, las condicionales en python son:if, elif y else**"
      ],
      "metadata": {
        "id": "l2wnXtFNlI8k"
      }
    },
    {
      "cell_type": "code",
      "source": [
        "#if condicion:si\n",
        "#(codigo que quiero ejecutar)\n",
        "#else: si no ejecute esto\n",
        "#(codigo a ejecutar)\n",
        "\n",
        "#ejemplo condicional\n",
        "edad_usuario=int (input(\"Hola para ingresar comprueba tu edad: \"))\n",
        "if edad_usuario <= 18:\n",
        "  print(\"Michael estas muy joven\")\n",
        "else:\n",
        "  print(\"Bienvenido\")"
      ],
      "metadata": {
        "colab": {
          "base_uri": "https://localhost:8080/"
        },
        "id": "F4SBQdgViV8y",
        "outputId": "8c2cd13d-d22e-4598-e1b6-258490afacf8"
      },
      "execution_count": null,
      "outputs": [
        {
          "output_type": "stream",
          "name": "stdout",
          "text": [
            "Hola para ingresar comprueba tu edad: 16\n",
            "Michael estas muy joven\n"
          ]
        }
      ]
    },
    {
      "cell_type": "code",
      "source": [
        "edad_usuario=int (input(\"Hola para ingresar comprueba tu edad: \"))\n",
        "if edad_usuario >= 18:\n",
        "  print(\"Bienvenido\")\n",
        "elif edad_usuario >= 13:\n",
        "  print(\"Eres un adolecente, pero te esperaremos\")\n",
        "else:\n",
        "  print(\"No puedes ingresar\")"
      ],
      "metadata": {
        "colab": {
          "base_uri": "https://localhost:8080/"
        },
        "id": "HFd0KDTrizLV",
        "outputId": "1fdd3cc1-87ff-4353-aac8-aabfff220588"
      },
      "execution_count": null,
      "outputs": [
        {
          "output_type": "stream",
          "name": "stdout",
          "text": [
            "Hola para ingresar comprueba tu edad: 13\n",
            "Eres un adolecente, pero te esperaremos\n"
          ]
        }
      ]
    },
    {
      "cell_type": "code",
      "source": [
        "if \"Mexico\" in paises:\n",
        "  print(\"Esta no es un alista latinoamericana\")\n",
        "else:\n",
        "  print(\"Los sudamericanos\")"
      ],
      "metadata": {
        "colab": {
          "base_uri": "https://localhost:8080/"
        },
        "id": "BWSPvaUzjvcA",
        "outputId": "4c7a70cb-6282-4f33-9540-c39b59b28280"
      },
      "execution_count": null,
      "outputs": [
        {
          "output_type": "stream",
          "name": "stdout",
          "text": [
            "Esta no es un alista latinoamericana\n"
          ]
        }
      ]
    },
    {
      "cell_type": "code",
      "source": [
        "paises"
      ],
      "metadata": {
        "colab": {
          "base_uri": "https://localhost:8080/"
        },
        "id": "YCwq1d1GkXY3",
        "outputId": "1f4d217a-b4b9-4e21-9bbe-f5ff62f37d9c"
      },
      "execution_count": null,
      "outputs": [
        {
          "output_type": "execute_result",
          "data": {
            "text/plain": [
              "['Venezuela', 'Paraguay', 'Mexico', 'Ecuadro', 'Colombia']"
            ]
          },
          "metadata": {},
          "execution_count": 218
        }
      ]
    },
    {
      "cell_type": "code",
      "source": [],
      "metadata": {
        "id": "5vUzF4UWklvo"
      },
      "execution_count": null,
      "outputs": []
    },
    {
      "cell_type": "markdown",
      "source": [
        "funciones: hay dos tipos de funciones: las funciones de autor y las funciones de phayto"
      ],
      "metadata": {
        "id": "HilayCACIans"
      }
    },
    {
      "cell_type": "code",
      "source": [
        "#funcion len me da la longitud de un arreglo\n",
        "len(paises)"
      ],
      "metadata": {
        "colab": {
          "base_uri": "https://localhost:8080/"
        },
        "id": "-hcnkdrfIcKH",
        "outputId": "621e939d-b457-4404-d2bc-c99b1ebcb338"
      },
      "execution_count": null,
      "outputs": [
        {
          "output_type": "execute_result",
          "data": {
            "text/plain": [
              "5"
            ]
          },
          "metadata": {},
          "execution_count": 219
        }
      ]
    },
    {
      "cell_type": "code",
      "source": [
        "#funcion max me sirve para mostrar el numero mas grande de un arreglo\n",
        "max(3,5,7,8,9,34)"
      ],
      "metadata": {
        "colab": {
          "base_uri": "https://localhost:8080/"
        },
        "id": "Krpd2ReZIgaY",
        "outputId": "6116cbb7-d01e-48dd-ad3b-39457489e262"
      },
      "execution_count": null,
      "outputs": [
        {
          "output_type": "execute_result",
          "data": {
            "text/plain": [
              "34"
            ]
          },
          "metadata": {},
          "execution_count": 220
        }
      ]
    },
    {
      "cell_type": "code",
      "source": [
        "#funcion min sirve para mostar el numero mas bajo de un arreglo\n",
        "min(3,5,7,9,16)"
      ],
      "metadata": {
        "colab": {
          "base_uri": "https://localhost:8080/"
        },
        "id": "IKVJfz0vJLLt",
        "outputId": "cf4d90e1-c0a5-4d35-fa9d-501c152e84a5"
      },
      "execution_count": null,
      "outputs": [
        {
          "output_type": "execute_result",
          "data": {
            "text/plain": [
              "3"
            ]
          },
          "metadata": {},
          "execution_count": 221
        }
      ]
    },
    {
      "cell_type": "code",
      "source": [
        "# funcion type me sirve para saber el tipo de dato de una variable\n",
        "type(paises)"
      ],
      "metadata": {
        "colab": {
          "base_uri": "https://localhost:8080/"
        },
        "id": "X1r7_JzdJSW4",
        "outputId": "9e5b67a8-8f97-4580-cab0-fac84c86d383"
      },
      "execution_count": null,
      "outputs": [
        {
          "output_type": "execute_result",
          "data": {
            "text/plain": [
              "list"
            ]
          },
          "metadata": {},
          "execution_count": 222
        }
      ]
    },
    {
      "cell_type": "code",
      "source": [
        "#funcion round me sirve para redondar decimales\n",
        "round(3.1416)"
      ],
      "metadata": {
        "colab": {
          "base_uri": "https://localhost:8080/"
        },
        "id": "P5ws-ZXWJdJ8",
        "outputId": "4f22cc82-1c1e-404a-c54a-a458d072ae72"
      },
      "execution_count": null,
      "outputs": [
        {
          "output_type": "execute_result",
          "data": {
            "text/plain": [
              "3"
            ]
          },
          "metadata": {},
          "execution_count": 223
        }
      ]
    },
    {
      "cell_type": "code",
      "source": [
        "# funcion range nos sirve para crear una secuencia de numero tiene tres argumentos inicio, final y el paso\n",
        "contando=range(0,200,5)\n",
        "for i in contando:\n",
        "  print (i)"
      ],
      "metadata": {
        "colab": {
          "base_uri": "https://localhost:8080/"
        },
        "id": "Ll8Ga624Jj9z",
        "outputId": "bb19ffc8-a50d-41ef-b39f-7ba4fbfc6eb9"
      },
      "execution_count": null,
      "outputs": [
        {
          "output_type": "stream",
          "name": "stdout",
          "text": [
            "0\n",
            "5\n",
            "10\n",
            "15\n",
            "20\n",
            "25\n",
            "30\n",
            "35\n",
            "40\n",
            "45\n",
            "50\n",
            "55\n",
            "60\n",
            "65\n",
            "70\n",
            "75\n",
            "80\n",
            "85\n",
            "90\n",
            "95\n",
            "100\n",
            "105\n",
            "110\n",
            "115\n",
            "120\n",
            "125\n",
            "130\n",
            "135\n",
            "140\n",
            "145\n",
            "150\n",
            "155\n",
            "160\n",
            "165\n",
            "170\n",
            "175\n",
            "180\n",
            "185\n",
            "190\n",
            "195\n"
          ]
        }
      ]
    },
    {
      "cell_type": "code",
      "source": [
        "#las funciones propias son las que yo creo y me sirven para reutilizar codigo\n",
        "def suma(a,b):\n",
        "  resultado=a+b\n",
        "  return resultado"
      ],
      "metadata": {
        "id": "aiITGOSgJq3W"
      },
      "execution_count": null,
      "outputs": []
    },
    {
      "cell_type": "code",
      "source": [
        "suma(13,15)"
      ],
      "metadata": {
        "colab": {
          "base_uri": "https://localhost:8080/"
        },
        "id": "3c7qf4SDPlRy",
        "outputId": "02821e54-9ce6-4ee7-8d9d-3ed034d4fb75"
      },
      "execution_count": null,
      "outputs": [
        {
          "output_type": "execute_result",
          "data": {
            "text/plain": [
              "28"
            ]
          },
          "metadata": {},
          "execution_count": 7
        }
      ]
    },
    {
      "cell_type": "code",
      "source": [
        "def pan(pan,precio):\n",
        "  precio_pan=pan*precio\n",
        "  return precio_pan"
      ],
      "metadata": {
        "id": "kSD7bfwKPr8z"
      },
      "execution_count": null,
      "outputs": []
    },
    {
      "cell_type": "code",
      "source": [
        "cantidad=int(input(\"numero panes\"))\n",
        "precio=500\n",
        "pan(12,precio)\n"
      ],
      "metadata": {
        "colab": {
          "base_uri": "https://localhost:8080/"
        },
        "id": "FsSH6ShwQvGr",
        "outputId": "a9828837-f053-4575-975e-c6fdeccfb73b"
      },
      "execution_count": null,
      "outputs": [
        {
          "name": "stdout",
          "output_type": "stream",
          "text": [
            "numero panes12\n"
          ]
        },
        {
          "output_type": "execute_result",
          "data": {
            "text/plain": [
              "6000"
            ]
          },
          "metadata": {},
          "execution_count": 15
        }
      ]
    },
    {
      "cell_type": "code",
      "source": [
        "def division(a,b):\n",
        "  resultado_division=a/b\n",
        "  return resultado_division"
      ],
      "metadata": {
        "id": "5vLzI0BASHU1"
      },
      "execution_count": null,
      "outputs": []
    },
    {
      "cell_type": "code",
      "source": [
        "a=int(input(\"numero dividendo\"))\n",
        "b=5\n"
      ],
      "metadata": {
        "colab": {
          "base_uri": "https://localhost:8080/"
        },
        "id": "_zGcFidAT-p5",
        "outputId": "9b66407c-6ae7-4e3e-d0b2-fc4567a63a33"
      },
      "execution_count": null,
      "outputs": [
        {
          "name": "stdout",
          "output_type": "stream",
          "text": [
            "numero dividendo10\n"
          ]
        }
      ]
    },
    {
      "cell_type": "markdown",
      "source": [
        "Ejercicio: escribe un programa que calcule el total de una compra de supermercado el usuario debe ingresar el precio de dos productos y las cantidades que desea comprar de cada uno, luego el programa debera permitir al usuario: sumar los precio de ambos productos, multiplicar los precios por las cantidades de producto para obtener el precio total, restar un descuento del precio total si el usuario tiene un cupon, dividir el total entre dos personas por si desean dividir la cuenta"
      ],
      "metadata": {
        "id": "f72KDo0AU9lv"
      }
    },
    {
      "cell_type": "code",
      "source": [
        "#multiplica, suma, resta y calcula division\n",
        "def multiplicar(a,b):\n",
        "  resultado_multiplicar=a*b\n",
        "  return resultado_multiplicar\n",
        "def division(a,b):\n",
        "  if b !=0:\n",
        "     return a/b\n",
        "  else:\n",
        "    return print(\"nose puede dividir entre o\")\n",
        "  resultado_division=a/b\n",
        "  return resultado_division\n",
        "def suma(a,b):\n",
        "  resultado_suma=a+b\n",
        "  return resultado_suma\n",
        "def resta(a,b):\n",
        "  resultado_resta=a-b\n",
        "  return resultado_resta"
      ],
      "metadata": {
        "id": "Vxhmc7XkU_Q5"
      },
      "execution_count": null,
      "outputs": []
    },
    {
      "cell_type": "code",
      "source": [
        "print(\"bienvenido a la tiendita\")\n",
        "precio_1=float(input(\"precio del producto 1: \"))\n",
        "cantidad_1=int(input(\"ingresar la cantidad producto 1: \"))\n",
        "precio_2=float(input(\"precio del producto 2: \"))\n",
        "cantidad_2=int(input(\"ingresar la cantidad producto 2: \"))\n",
        "operacion=input(\"\"\"bienvenido, como estas?. que quieres hacer\n",
        "1.sumar los precios de ambos productos\n",
        "2.calcular el costo total multiplicando precio por cantidad\n",
        "3.aplicar un descuento al total\n",
        "4.dividir el total entre dos personas\n",
        "no olvides que solo puedes elegis 1,2,3 y 4: 1\"\"\")\n",
        "if operacion==\"1\":\n",
        "  total_precio=suma(precio_1,precio_2)\n",
        "print (total_precio)"
      ],
      "metadata": {
        "colab": {
          "base_uri": "https://localhost:8080/"
        },
        "id": "NqUTcy0HWXiD",
        "outputId": "331758cf-5b4b-4f4e-a0ad-ea9baad75f75"
      },
      "execution_count": null,
      "outputs": [
        {
          "output_type": "stream",
          "name": "stdout",
          "text": [
            "bienvenido a la tiendita\n",
            "precio del producto 1: 200\n",
            "ingresar la cantidad producto 1: 2\n",
            "precio del producto 2: 3\n",
            "ingresar la cantidad producto 2: 4\n",
            "bienvenido, como estas?. que quieres hacer\n",
            "1.sumar los precios de ambos productos\n",
            "2.calcular el costo total multiplicando precio por cantidad\n",
            "3.aplicar un descuento al total\n",
            "4.dividir el total entre dos personas\n",
            "no olvides que solo puedes elegis 1,2,3 y 4: 11\n",
            "203.0\n"
          ]
        }
      ]
    },
    {
      "cell_type": "code",
      "source": [],
      "metadata": {
        "id": "rVJuLQraWYWI"
      },
      "execution_count": null,
      "outputs": []
    }
  ]
}